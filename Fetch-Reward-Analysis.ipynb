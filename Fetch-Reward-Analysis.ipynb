{
 "cells": [
  {
   "cell_type": "markdown",
   "id": "5adb02e8",
   "metadata": {},
   "source": [
    "# Fetch Rewards Coding Exercise - Data Analyst"
   ]
  },
  {
   "cell_type": "markdown",
   "id": "b069ff1c",
   "metadata": {},
   "source": [
    "The sample Fetch Rewards data are in 3 files in the JSON Lines format. Those files are:\n",
    "1) Brands\n",
    "2) Users\n",
    "3) Receipts\n",
    "\n",
    "In this notebook, I have created relational database design and implemented it one schema, the ER diagram of which is attached in the submission. The entire table after performing certain transformations.As a last step to work on the queries, I imported the created tables to MySQL Server. "
   ]
  },
  {
   "cell_type": "code",
   "execution_count": 1,
   "id": "25ac1add",
   "metadata": {},
   "outputs": [],
   "source": [
    "#loading the libraries packages\n",
    "import json\n",
    "import numpy as np\n",
    "import pandas as pd\n",
    "import seaborn as sns\n",
    "import matplotlib.pyplot as plt"
   ]
  },
  {
   "cell_type": "markdown",
   "id": "77951f07",
   "metadata": {},
   "source": [
    "## 1. Brands Data:"
   ]
  },
  {
   "cell_type": "code",
   "execution_count": 2,
   "id": "751dbb07",
   "metadata": {},
   "outputs": [
    {
     "data": {
      "text/html": [
       "<div>\n",
       "<style scoped>\n",
       "    .dataframe tbody tr th:only-of-type {\n",
       "        vertical-align: middle;\n",
       "    }\n",
       "\n",
       "    .dataframe tbody tr th {\n",
       "        vertical-align: top;\n",
       "    }\n",
       "\n",
       "    .dataframe thead th {\n",
       "        text-align: right;\n",
       "    }\n",
       "</style>\n",
       "<table border=\"1\" class=\"dataframe\">\n",
       "  <thead>\n",
       "    <tr style=\"text-align: right;\">\n",
       "      <th></th>\n",
       "      <th>_id</th>\n",
       "      <th>barcode</th>\n",
       "      <th>category</th>\n",
       "      <th>categoryCode</th>\n",
       "      <th>cpg</th>\n",
       "      <th>name</th>\n",
       "      <th>topBrand</th>\n",
       "      <th>brandCode</th>\n",
       "    </tr>\n",
       "  </thead>\n",
       "  <tbody>\n",
       "    <tr>\n",
       "      <th>0</th>\n",
       "      <td>{'$oid': '601ac115be37ce2ead437551'}</td>\n",
       "      <td>511111019862</td>\n",
       "      <td>Baking</td>\n",
       "      <td>BAKING</td>\n",
       "      <td>{'$id': {'$oid': '601ac114be37ce2ead437550'}, ...</td>\n",
       "      <td>test brand @1612366101024</td>\n",
       "      <td>0.0</td>\n",
       "      <td>NaN</td>\n",
       "    </tr>\n",
       "    <tr>\n",
       "      <th>1</th>\n",
       "      <td>{'$oid': '601c5460be37ce2ead43755f'}</td>\n",
       "      <td>511111519928</td>\n",
       "      <td>Beverages</td>\n",
       "      <td>BEVERAGES</td>\n",
       "      <td>{'$id': {'$oid': '5332f5fbe4b03c9a25efd0ba'}, ...</td>\n",
       "      <td>Starbucks</td>\n",
       "      <td>0.0</td>\n",
       "      <td>STARBUCKS</td>\n",
       "    </tr>\n",
       "    <tr>\n",
       "      <th>2</th>\n",
       "      <td>{'$oid': '601ac142be37ce2ead43755d'}</td>\n",
       "      <td>511111819905</td>\n",
       "      <td>Baking</td>\n",
       "      <td>BAKING</td>\n",
       "      <td>{'$id': {'$oid': '601ac142be37ce2ead437559'}, ...</td>\n",
       "      <td>test brand @1612366146176</td>\n",
       "      <td>0.0</td>\n",
       "      <td>TEST BRANDCODE @1612366146176</td>\n",
       "    </tr>\n",
       "    <tr>\n",
       "      <th>3</th>\n",
       "      <td>{'$oid': '601ac142be37ce2ead43755a'}</td>\n",
       "      <td>511111519874</td>\n",
       "      <td>Baking</td>\n",
       "      <td>BAKING</td>\n",
       "      <td>{'$id': {'$oid': '601ac142be37ce2ead437559'}, ...</td>\n",
       "      <td>test brand @1612366146051</td>\n",
       "      <td>0.0</td>\n",
       "      <td>TEST BRANDCODE @1612366146051</td>\n",
       "    </tr>\n",
       "    <tr>\n",
       "      <th>4</th>\n",
       "      <td>{'$oid': '601ac142be37ce2ead43755e'}</td>\n",
       "      <td>511111319917</td>\n",
       "      <td>Candy &amp; Sweets</td>\n",
       "      <td>CANDY_AND_SWEETS</td>\n",
       "      <td>{'$id': {'$oid': '5332fa12e4b03c9a25efd1e7'}, ...</td>\n",
       "      <td>test brand @1612366146827</td>\n",
       "      <td>0.0</td>\n",
       "      <td>TEST BRANDCODE @1612366146827</td>\n",
       "    </tr>\n",
       "    <tr>\n",
       "      <th>...</th>\n",
       "      <td>...</td>\n",
       "      <td>...</td>\n",
       "      <td>...</td>\n",
       "      <td>...</td>\n",
       "      <td>...</td>\n",
       "      <td>...</td>\n",
       "      <td>...</td>\n",
       "      <td>...</td>\n",
       "    </tr>\n",
       "    <tr>\n",
       "      <th>1162</th>\n",
       "      <td>{'$oid': '5f77274dbe37ce6b592e90c0'}</td>\n",
       "      <td>511111116752</td>\n",
       "      <td>Baking</td>\n",
       "      <td>BAKING</td>\n",
       "      <td>{'$ref': 'Cogs', '$id': {'$oid': '5f77274dbe37...</td>\n",
       "      <td>test brand @1601644365844</td>\n",
       "      <td>NaN</td>\n",
       "      <td>NaN</td>\n",
       "    </tr>\n",
       "    <tr>\n",
       "      <th>1163</th>\n",
       "      <td>{'$oid': '5dc1fca91dda2c0ad7da64ae'}</td>\n",
       "      <td>511111706328</td>\n",
       "      <td>Breakfast &amp; Cereal</td>\n",
       "      <td>NaN</td>\n",
       "      <td>{'$ref': 'Cogs', '$id': {'$oid': '53e10d6368ab...</td>\n",
       "      <td>Dippin Dots® Cereal</td>\n",
       "      <td>NaN</td>\n",
       "      <td>DIPPIN DOTS CEREAL</td>\n",
       "    </tr>\n",
       "    <tr>\n",
       "      <th>1164</th>\n",
       "      <td>{'$oid': '5f494c6e04db711dd8fe87e7'}</td>\n",
       "      <td>511111416173</td>\n",
       "      <td>Candy &amp; Sweets</td>\n",
       "      <td>CANDY_AND_SWEETS</td>\n",
       "      <td>{'$ref': 'Cogs', '$id': {'$oid': '5332fa12e4b0...</td>\n",
       "      <td>test brand @1598639215217</td>\n",
       "      <td>NaN</td>\n",
       "      <td>TEST BRANDCODE @1598639215217</td>\n",
       "    </tr>\n",
       "    <tr>\n",
       "      <th>1165</th>\n",
       "      <td>{'$oid': '5a021611e4b00efe02b02a57'}</td>\n",
       "      <td>511111400608</td>\n",
       "      <td>Grocery</td>\n",
       "      <td>NaN</td>\n",
       "      <td>{'$ref': 'Cogs', '$id': {'$oid': '5332f5f6e4b0...</td>\n",
       "      <td>LIPTON TEA Leaves</td>\n",
       "      <td>0.0</td>\n",
       "      <td>LIPTON TEA Leaves</td>\n",
       "    </tr>\n",
       "    <tr>\n",
       "      <th>1166</th>\n",
       "      <td>{'$oid': '6026d757be37ce6369301468'}</td>\n",
       "      <td>511111019930</td>\n",
       "      <td>Baking</td>\n",
       "      <td>BAKING</td>\n",
       "      <td>{'$id': {'$oid': '6026d757be37ce6369301467'}, ...</td>\n",
       "      <td>test brand @1613158231643</td>\n",
       "      <td>0.0</td>\n",
       "      <td>TEST BRANDCODE @1613158231644</td>\n",
       "    </tr>\n",
       "  </tbody>\n",
       "</table>\n",
       "<p>1167 rows × 8 columns</p>\n",
       "</div>"
      ],
      "text/plain": [
       "                                       _id       barcode            category  \\\n",
       "0     {'$oid': '601ac115be37ce2ead437551'}  511111019862              Baking   \n",
       "1     {'$oid': '601c5460be37ce2ead43755f'}  511111519928           Beverages   \n",
       "2     {'$oid': '601ac142be37ce2ead43755d'}  511111819905              Baking   \n",
       "3     {'$oid': '601ac142be37ce2ead43755a'}  511111519874              Baking   \n",
       "4     {'$oid': '601ac142be37ce2ead43755e'}  511111319917      Candy & Sweets   \n",
       "...                                    ...           ...                 ...   \n",
       "1162  {'$oid': '5f77274dbe37ce6b592e90c0'}  511111116752              Baking   \n",
       "1163  {'$oid': '5dc1fca91dda2c0ad7da64ae'}  511111706328  Breakfast & Cereal   \n",
       "1164  {'$oid': '5f494c6e04db711dd8fe87e7'}  511111416173      Candy & Sweets   \n",
       "1165  {'$oid': '5a021611e4b00efe02b02a57'}  511111400608             Grocery   \n",
       "1166  {'$oid': '6026d757be37ce6369301468'}  511111019930              Baking   \n",
       "\n",
       "          categoryCode                                                cpg  \\\n",
       "0               BAKING  {'$id': {'$oid': '601ac114be37ce2ead437550'}, ...   \n",
       "1            BEVERAGES  {'$id': {'$oid': '5332f5fbe4b03c9a25efd0ba'}, ...   \n",
       "2               BAKING  {'$id': {'$oid': '601ac142be37ce2ead437559'}, ...   \n",
       "3               BAKING  {'$id': {'$oid': '601ac142be37ce2ead437559'}, ...   \n",
       "4     CANDY_AND_SWEETS  {'$id': {'$oid': '5332fa12e4b03c9a25efd1e7'}, ...   \n",
       "...                ...                                                ...   \n",
       "1162            BAKING  {'$ref': 'Cogs', '$id': {'$oid': '5f77274dbe37...   \n",
       "1163               NaN  {'$ref': 'Cogs', '$id': {'$oid': '53e10d6368ab...   \n",
       "1164  CANDY_AND_SWEETS  {'$ref': 'Cogs', '$id': {'$oid': '5332fa12e4b0...   \n",
       "1165               NaN  {'$ref': 'Cogs', '$id': {'$oid': '5332f5f6e4b0...   \n",
       "1166            BAKING  {'$id': {'$oid': '6026d757be37ce6369301467'}, ...   \n",
       "\n",
       "                           name  topBrand                      brandCode  \n",
       "0     test brand @1612366101024       0.0                            NaN  \n",
       "1                     Starbucks       0.0                      STARBUCKS  \n",
       "2     test brand @1612366146176       0.0  TEST BRANDCODE @1612366146176  \n",
       "3     test brand @1612366146051       0.0  TEST BRANDCODE @1612366146051  \n",
       "4     test brand @1612366146827       0.0  TEST BRANDCODE @1612366146827  \n",
       "...                         ...       ...                            ...  \n",
       "1162  test brand @1601644365844       NaN                            NaN  \n",
       "1163        Dippin Dots® Cereal       NaN             DIPPIN DOTS CEREAL  \n",
       "1164  test brand @1598639215217       NaN  TEST BRANDCODE @1598639215217  \n",
       "1165          LIPTON TEA Leaves       0.0              LIPTON TEA Leaves  \n",
       "1166  test brand @1613158231643       0.0  TEST BRANDCODE @1613158231644  \n",
       "\n",
       "[1167 rows x 8 columns]"
      ]
     },
     "execution_count": 2,
     "metadata": {},
     "output_type": "execute_result"
    }
   ],
   "source": [
    "#Reading input source file(.json) after unzip\n",
    "brands_file = pd.read_json('/Users/vamshireddyveramareddy/Desktop/data/brands.json',lines=True)\n",
    "brands_file"
   ]
  },
  {
   "cell_type": "code",
   "execution_count": 3,
   "id": "903b715f",
   "metadata": {},
   "outputs": [],
   "source": [
    "# Formatting source file using a loop function\n",
    "brands = []\n",
    "# Open the file\n",
    "with open('/Users/vamshireddyveramareddy/Desktop/data/brands.json') as f:\n",
    "    for line in f:\n",
    "        brands.append(json.loads(line))\n",
    "# Conversion of \n",
    "brands_df = pd.json_normalize(brands)"
   ]
  },
  {
   "cell_type": "code",
   "execution_count": 4,
   "id": "020be554",
   "metadata": {},
   "outputs": [],
   "source": [
    "# Rename columns for clarity\n",
    "brands_df.rename(columns={'_id.$oid': 'id', 'cpg.$id.$oid': 'cpg', 'cpg.$ref': 'ref'}, inplace=True)"
   ]
  },
  {
   "cell_type": "code",
   "execution_count": 5,
   "id": "faf2ec42",
   "metadata": {},
   "outputs": [
    {
     "data": {
      "text/html": [
       "<div>\n",
       "<style scoped>\n",
       "    .dataframe tbody tr th:only-of-type {\n",
       "        vertical-align: middle;\n",
       "    }\n",
       "\n",
       "    .dataframe tbody tr th {\n",
       "        vertical-align: top;\n",
       "    }\n",
       "\n",
       "    .dataframe thead th {\n",
       "        text-align: right;\n",
       "    }\n",
       "</style>\n",
       "<table border=\"1\" class=\"dataframe\">\n",
       "  <thead>\n",
       "    <tr style=\"text-align: right;\">\n",
       "      <th></th>\n",
       "      <th>barcode</th>\n",
       "      <th>category</th>\n",
       "      <th>categoryCode</th>\n",
       "      <th>name</th>\n",
       "      <th>topBrand</th>\n",
       "      <th>id</th>\n",
       "      <th>cpg</th>\n",
       "      <th>ref</th>\n",
       "      <th>brandCode</th>\n",
       "    </tr>\n",
       "  </thead>\n",
       "  <tbody>\n",
       "    <tr>\n",
       "      <th>0</th>\n",
       "      <td>511111019862</td>\n",
       "      <td>Baking</td>\n",
       "      <td>BAKING</td>\n",
       "      <td>test brand @1612366101024</td>\n",
       "      <td>False</td>\n",
       "      <td>601ac115be37ce2ead437551</td>\n",
       "      <td>601ac114be37ce2ead437550</td>\n",
       "      <td>Cogs</td>\n",
       "      <td>NaN</td>\n",
       "    </tr>\n",
       "    <tr>\n",
       "      <th>1</th>\n",
       "      <td>511111519928</td>\n",
       "      <td>Beverages</td>\n",
       "      <td>BEVERAGES</td>\n",
       "      <td>Starbucks</td>\n",
       "      <td>False</td>\n",
       "      <td>601c5460be37ce2ead43755f</td>\n",
       "      <td>5332f5fbe4b03c9a25efd0ba</td>\n",
       "      <td>Cogs</td>\n",
       "      <td>STARBUCKS</td>\n",
       "    </tr>\n",
       "    <tr>\n",
       "      <th>2</th>\n",
       "      <td>511111819905</td>\n",
       "      <td>Baking</td>\n",
       "      <td>BAKING</td>\n",
       "      <td>test brand @1612366146176</td>\n",
       "      <td>False</td>\n",
       "      <td>601ac142be37ce2ead43755d</td>\n",
       "      <td>601ac142be37ce2ead437559</td>\n",
       "      <td>Cogs</td>\n",
       "      <td>TEST BRANDCODE @1612366146176</td>\n",
       "    </tr>\n",
       "    <tr>\n",
       "      <th>3</th>\n",
       "      <td>511111519874</td>\n",
       "      <td>Baking</td>\n",
       "      <td>BAKING</td>\n",
       "      <td>test brand @1612366146051</td>\n",
       "      <td>False</td>\n",
       "      <td>601ac142be37ce2ead43755a</td>\n",
       "      <td>601ac142be37ce2ead437559</td>\n",
       "      <td>Cogs</td>\n",
       "      <td>TEST BRANDCODE @1612366146051</td>\n",
       "    </tr>\n",
       "    <tr>\n",
       "      <th>4</th>\n",
       "      <td>511111319917</td>\n",
       "      <td>Candy &amp; Sweets</td>\n",
       "      <td>CANDY_AND_SWEETS</td>\n",
       "      <td>test brand @1612366146827</td>\n",
       "      <td>False</td>\n",
       "      <td>601ac142be37ce2ead43755e</td>\n",
       "      <td>5332fa12e4b03c9a25efd1e7</td>\n",
       "      <td>Cogs</td>\n",
       "      <td>TEST BRANDCODE @1612366146827</td>\n",
       "    </tr>\n",
       "  </tbody>\n",
       "</table>\n",
       "</div>"
      ],
      "text/plain": [
       "        barcode        category      categoryCode                       name  \\\n",
       "0  511111019862          Baking            BAKING  test brand @1612366101024   \n",
       "1  511111519928       Beverages         BEVERAGES                  Starbucks   \n",
       "2  511111819905          Baking            BAKING  test brand @1612366146176   \n",
       "3  511111519874          Baking            BAKING  test brand @1612366146051   \n",
       "4  511111319917  Candy & Sweets  CANDY_AND_SWEETS  test brand @1612366146827   \n",
       "\n",
       "  topBrand                        id                       cpg   ref  \\\n",
       "0    False  601ac115be37ce2ead437551  601ac114be37ce2ead437550  Cogs   \n",
       "1    False  601c5460be37ce2ead43755f  5332f5fbe4b03c9a25efd0ba  Cogs   \n",
       "2    False  601ac142be37ce2ead43755d  601ac142be37ce2ead437559  Cogs   \n",
       "3    False  601ac142be37ce2ead43755a  601ac142be37ce2ead437559  Cogs   \n",
       "4    False  601ac142be37ce2ead43755e  5332fa12e4b03c9a25efd1e7  Cogs   \n",
       "\n",
       "                       brandCode  \n",
       "0                            NaN  \n",
       "1                      STARBUCKS  \n",
       "2  TEST BRANDCODE @1612366146176  \n",
       "3  TEST BRANDCODE @1612366146051  \n",
       "4  TEST BRANDCODE @1612366146827  "
      ]
     },
     "execution_count": 5,
     "metadata": {},
     "output_type": "execute_result"
    }
   ],
   "source": [
    "brands_df.head()"
   ]
  },
  {
   "cell_type": "code",
   "execution_count": 6,
   "id": "8591cc21",
   "metadata": {},
   "outputs": [
    {
     "name": "stdout",
     "output_type": "stream",
     "text": [
      "<class 'pandas.core.frame.DataFrame'>\n",
      "RangeIndex: 1167 entries, 0 to 1166\n",
      "Data columns (total 9 columns):\n",
      " #   Column        Non-Null Count  Dtype \n",
      "---  ------        --------------  ----- \n",
      " 0   barcode       1167 non-null   object\n",
      " 1   category      1012 non-null   object\n",
      " 2   categoryCode  517 non-null    object\n",
      " 3   name          1167 non-null   object\n",
      " 4   topBrand      555 non-null    object\n",
      " 5   id            1167 non-null   object\n",
      " 6   cpg           1167 non-null   object\n",
      " 7   ref           1167 non-null   object\n",
      " 8   brandCode     933 non-null    object\n",
      "dtypes: object(9)\n",
      "memory usage: 82.2+ KB\n"
     ]
    }
   ],
   "source": [
    "brands_df.info()"
   ]
  },
  {
   "cell_type": "code",
   "execution_count": 7,
   "id": "b6431369",
   "metadata": {},
   "outputs": [
    {
     "data": {
      "text/plain": [
       "0"
      ]
     },
     "execution_count": 7,
     "metadata": {},
     "output_type": "execute_result"
    }
   ],
   "source": [
    "#Duplicate Check\n",
    "brands_df.duplicated().sum()"
   ]
  },
  {
   "cell_type": "code",
   "execution_count": 8,
   "id": "38152d0a",
   "metadata": {},
   "outputs": [
    {
     "data": {
      "text/plain": [
       "barcode           0\n",
       "category        155\n",
       "categoryCode    650\n",
       "name              0\n",
       "topBrand        612\n",
       "id                0\n",
       "cpg               0\n",
       "ref               0\n",
       "brandCode       234\n",
       "dtype: int64"
      ]
     },
     "execution_count": 8,
     "metadata": {},
     "output_type": "execute_result"
    }
   ],
   "source": [
    "#Checking for null values\n",
    "brands_df.isnull().sum()"
   ]
  },
  {
   "cell_type": "code",
   "execution_count": 9,
   "id": "c42b3704",
   "metadata": {},
   "outputs": [
    {
     "data": {
      "text/plain": [
       "barcode         1160\n",
       "category          23\n",
       "categoryCode      14\n",
       "name            1156\n",
       "topBrand           2\n",
       "id              1167\n",
       "cpg              196\n",
       "ref                2\n",
       "brandCode        897\n",
       "dtype: int64"
      ]
     },
     "execution_count": 9,
     "metadata": {},
     "output_type": "execute_result"
    }
   ],
   "source": [
    "# Checking for the number of missing values in each column\n",
    "brands_df.nunique()"
   ]
  },
  {
   "cell_type": "code",
   "execution_count": 10,
   "id": "c36612a2",
   "metadata": {},
   "outputs": [
    {
     "data": {
      "text/plain": [
       "barcode         0.000000\n",
       "category        0.132819\n",
       "categoryCode    0.556984\n",
       "name            0.000000\n",
       "topBrand        0.524422\n",
       "id              0.000000\n",
       "cpg             0.000000\n",
       "ref             0.000000\n",
       "brandCode       0.200514\n",
       "dtype: float64"
      ]
     },
     "execution_count": 10,
     "metadata": {},
     "output_type": "execute_result"
    }
   ],
   "source": [
    "#Check missing value\n",
    "brands_na = brands_df.isna().sum()\n",
    "brands_na/len(brands_df)"
   ]
  },
  {
   "cell_type": "code",
   "execution_count": 11,
   "id": "c4c7874f",
   "metadata": {},
   "outputs": [
    {
     "data": {
      "text/plain": [
       "array(['Baking', 'Beverages', 'Candy & Sweets', 'Condiments & Sauces',\n",
       "       'Canned Goods & Soups', nan, 'Magazines', 'Breakfast & Cereal',\n",
       "       'Beer Wine Spirits', 'Health & Wellness', 'Beauty', 'Baby',\n",
       "       'Frozen', 'Grocery', 'Snacks', 'Household', 'Personal Care',\n",
       "       'Dairy', 'Cleaning & Home Improvement', 'Deli',\n",
       "       'Beauty & Personal Care', 'Bread & Bakery', 'Outdoor',\n",
       "       'Dairy & Refrigerated'], dtype=object)"
      ]
     },
     "execution_count": 11,
     "metadata": {},
     "output_type": "execute_result"
    }
   ],
   "source": [
    "brands_df[\"category\"].unique()"
   ]
  },
  {
   "cell_type": "code",
   "execution_count": 12,
   "id": "ecb98f15",
   "metadata": {},
   "outputs": [
    {
     "data": {
      "image/png": "[encoded data removed]",
      "text/plain": [
       "<Figure size 800x400 with 1 Axes>"
      ]
     },
     "metadata": {},
     "output_type": "display_data"
    }
   ],
   "source": [
    "brands_category_counts = brands_df['category'].value_counts()\n",
    "plt.figure(figsize=(8,4)) \n",
    "brands_category_counts.plot(kind='bar')\n",
    "plt.xlabel('Category')\n",
    "plt.ylabel('Frequency')\n",
    "plt.title('Each Category Frequencey')\n",
    "plt.xticks(rotation=90)  \n",
    "plt.show()"
   ]
  },
  {
   "cell_type": "code",
   "execution_count": 13,
   "id": "9ae12f5f",
   "metadata": {},
   "outputs": [
    {
     "name": "stdout",
     "output_type": "stream",
     "text": [
      "Baking                         31.62%\n",
      "Beer Wine Spirits               7.71%\n",
      "Snacks                          6.43%\n",
      "Candy & Sweets                  6.08%\n",
      "Beverages                       5.40%\n",
      "Magazines                       3.77%\n",
      "Health & Wellness               3.77%\n",
      "Breakfast & Cereal              3.43%\n",
      "Grocery                         3.34%\n",
      "Dairy                           2.83%\n",
      "Condiments & Sauces             2.31%\n",
      "Frozen                          2.06%\n",
      "Personal Care                   1.71%\n",
      "Baby                            1.54%\n",
      "Canned Goods & Soups            1.03%\n",
      "Beauty                          0.77%\n",
      "Cleaning & Home Improvement     0.51%\n",
      "Deli                            0.51%\n",
      "Beauty & Personal Care          0.51%\n",
      "Household                       0.43%\n",
      "Bread & Bakery                  0.43%\n",
      "Dairy & Refrigerated            0.43%\n",
      "Outdoor                         0.09%\n",
      "Name: category, dtype: object\n"
     ]
    }
   ],
   "source": [
    "brands_categoryfreq= 100* (brands_df['category'].value_counts() / len(brands_df))  \n",
    "print (brands_categoryfreq.map('{:,.2f}%' .format))"
   ]
  },
  {
   "cell_type": "code",
   "execution_count": 14,
   "id": "b2d8cacc",
   "metadata": {},
   "outputs": [
    {
     "data": {
      "text/plain": [
       "<Axes: xlabel='category', ylabel='count'>"
      ]
     },
     "execution_count": 14,
     "metadata": {},
     "output_type": "execute_result"
    },
    {
     "data": {
      "image/png": "[encoded data removed]",
      "text/plain": [
       "<Figure size 3000x800 with 1 Axes>"
      ]
     },
     "metadata": {},
     "output_type": "display_data"
    }
   ],
   "source": [
    "category_prop = brands_df['category'].value_counts().reset_index()\n",
    "category_prop.rename(columns={'index': 'category', 'category': 'count'}, inplace=True)\n",
    "# Generate a color palette with decreasing brightness\n",
    "base_color = 'blue'\n",
    "n_categories = len(category_prop)\n",
    "color_palette = sns.light_palette(base_color, n_colors=n_categories, reverse=True)\n",
    "\n",
    "plt.figure(figsize=(30, 8))\n",
    "sns.barplot(x='category', y='count', data=category_prop, palette=color_palette)"
   ]
  },
  {
   "cell_type": "code",
   "execution_count": 15,
   "id": "64814f7a",
   "metadata": {},
   "outputs": [
    {
     "data": {
      "image/png": "[encoded data removed]",
      "text/plain": [
       "<Figure size 1000x600 with 1 Axes>"
      ]
     },
     "metadata": {},
     "output_type": "display_data"
    }
   ],
   "source": [
    "# Create a DataFrame with the value counts of 'cpg_ref'\n",
    "cpg_ref_counts = pd.DataFrame(brands_df['ref'].value_counts())\n",
    "\n",
    "# Reset the index and rename the columns\n",
    "cpg_ref_counts.reset_index(inplace=True)\n",
    "cpg_ref_counts.rename(columns={'index': 'ref', 'ref': 'count'}, inplace=True)\n",
    "\n",
    "# Create the bar plot\n",
    "plt.figure(figsize=(10, 6))\n",
    "sns.barplot(x='ref', y='count', data=cpg_ref_counts)\n",
    "\n",
    "# Add labels and title\n",
    "plt.xlabel('Ref')\n",
    "plt.ylabel('Count')\n",
    "plt.title('CPG Ref Counts')\n",
    "\n",
    "# Show the plot\n",
    "plt.show()"
   ]
  },
  {
   "cell_type": "markdown",
   "id": "8845884a",
   "metadata": {},
   "source": [
    "## Brands Data Quality Issues:"
   ]
  },
  {
   "cell_type": "markdown",
   "id": "cb01dd6d",
   "metadata": {},
   "source": [
    "1. Wrong Data Type Issues.\n",
    "2. Missing Data Values(categoryCode, topBrand, brandCode, category)\n",
    "3. The presence of class imbalance in 'category' and 'cpg_ref' should be taken into account for further analysis or model development."
   ]
  },
  {
   "cell_type": "markdown",
   "id": "d6579147",
   "metadata": {},
   "source": [
    "    "
   ]
  },
  {
   "cell_type": "markdown",
   "id": "25330775",
   "metadata": {},
   "source": [
    "## 2. Users Data:"
   ]
  },
  {
   "cell_type": "code",
   "execution_count": 16,
   "id": "30da1227",
   "metadata": {},
   "outputs": [],
   "source": [
    "# Formatting source file using a loop function\n",
    "users = []\n",
    "with open('/Users/vamshireddyveramareddy/Desktop/data/users.json') as f:\n",
    "    for line in f:\n",
    "        users.append(json.loads(line))\n",
    "users_df = pd.json_normalize(users)"
   ]
  },
  {
   "cell_type": "code",
   "execution_count": 17,
   "id": "1c00ee86",
   "metadata": {},
   "outputs": [
    {
     "data": {
      "text/html": [
       "<div>\n",
       "<style scoped>\n",
       "    .dataframe tbody tr th:only-of-type {\n",
       "        vertical-align: middle;\n",
       "    }\n",
       "\n",
       "    .dataframe tbody tr th {\n",
       "        vertical-align: top;\n",
       "    }\n",
       "\n",
       "    .dataframe thead th {\n",
       "        text-align: right;\n",
       "    }\n",
       "</style>\n",
       "<table border=\"1\" class=\"dataframe\">\n",
       "  <thead>\n",
       "    <tr style=\"text-align: right;\">\n",
       "      <th></th>\n",
       "      <th>active</th>\n",
       "      <th>role</th>\n",
       "      <th>signUpSource</th>\n",
       "      <th>state</th>\n",
       "      <th>_id.$oid</th>\n",
       "      <th>createdDate.$date</th>\n",
       "      <th>lastLogin.$date</th>\n",
       "    </tr>\n",
       "  </thead>\n",
       "  <tbody>\n",
       "    <tr>\n",
       "      <th>0</th>\n",
       "      <td>True</td>\n",
       "      <td>consumer</td>\n",
       "      <td>Email</td>\n",
       "      <td>WI</td>\n",
       "      <td>5ff1e194b6a9d73a3a9f1052</td>\n",
       "      <td>1609687444800</td>\n",
       "      <td>1.609688e+12</td>\n",
       "    </tr>\n",
       "    <tr>\n",
       "      <th>1</th>\n",
       "      <td>True</td>\n",
       "      <td>consumer</td>\n",
       "      <td>Email</td>\n",
       "      <td>WI</td>\n",
       "      <td>5ff1e194b6a9d73a3a9f1052</td>\n",
       "      <td>1609687444800</td>\n",
       "      <td>1.609688e+12</td>\n",
       "    </tr>\n",
       "    <tr>\n",
       "      <th>2</th>\n",
       "      <td>True</td>\n",
       "      <td>consumer</td>\n",
       "      <td>Email</td>\n",
       "      <td>WI</td>\n",
       "      <td>5ff1e194b6a9d73a3a9f1052</td>\n",
       "      <td>1609687444800</td>\n",
       "      <td>1.609688e+12</td>\n",
       "    </tr>\n",
       "    <tr>\n",
       "      <th>3</th>\n",
       "      <td>True</td>\n",
       "      <td>consumer</td>\n",
       "      <td>Email</td>\n",
       "      <td>WI</td>\n",
       "      <td>5ff1e1eacfcf6c399c274ae6</td>\n",
       "      <td>1609687530554</td>\n",
       "      <td>1.609688e+12</td>\n",
       "    </tr>\n",
       "    <tr>\n",
       "      <th>4</th>\n",
       "      <td>True</td>\n",
       "      <td>consumer</td>\n",
       "      <td>Email</td>\n",
       "      <td>WI</td>\n",
       "      <td>5ff1e194b6a9d73a3a9f1052</td>\n",
       "      <td>1609687444800</td>\n",
       "      <td>1.609688e+12</td>\n",
       "    </tr>\n",
       "  </tbody>\n",
       "</table>\n",
       "</div>"
      ],
      "text/plain": [
       "   active      role signUpSource state                  _id.$oid  \\\n",
       "0    True  consumer        Email    WI  5ff1e194b6a9d73a3a9f1052   \n",
       "1    True  consumer        Email    WI  5ff1e194b6a9d73a3a9f1052   \n",
       "2    True  consumer        Email    WI  5ff1e194b6a9d73a3a9f1052   \n",
       "3    True  consumer        Email    WI  5ff1e1eacfcf6c399c274ae6   \n",
       "4    True  consumer        Email    WI  5ff1e194b6a9d73a3a9f1052   \n",
       "\n",
       "   createdDate.$date  lastLogin.$date  \n",
       "0      1609687444800     1.609688e+12  \n",
       "1      1609687444800     1.609688e+12  \n",
       "2      1609687444800     1.609688e+12  \n",
       "3      1609687530554     1.609688e+12  \n",
       "4      1609687444800     1.609688e+12  "
      ]
     },
     "execution_count": 17,
     "metadata": {},
     "output_type": "execute_result"
    }
   ],
   "source": [
    "users_df.head()"
   ]
  },
  {
   "cell_type": "code",
   "execution_count": 18,
   "id": "3b11fab8",
   "metadata": {},
   "outputs": [],
   "source": [
    "# Rename columns\n",
    "users_df.rename(columns={'_id.$oid': 'id', 'createdDate.$date': 'createddate', 'lastLogin.$date': 'lastlogin'},\n",
    "                inplace=True)"
   ]
  },
  {
   "cell_type": "code",
   "execution_count": 19,
   "id": "6c87d41e",
   "metadata": {},
   "outputs": [],
   "source": [
    "# Changing columns to datetime\n",
    "for col in ['createddate', 'lastlogin']:\n",
    "    users_df[col] = pd.to_datetime(users_df[col].apply(lambda x: eval(x)['$date']) \n",
    "                                   if users_df[col].dtype == '0' else users_df[col])\n"
   ]
  },
  {
   "cell_type": "code",
   "execution_count": 20,
   "id": "4a81a485",
   "metadata": {},
   "outputs": [
    {
     "name": "stdout",
     "output_type": "stream",
     "text": [
      "<class 'pandas.core.frame.DataFrame'>\n",
      "RangeIndex: 495 entries, 0 to 494\n",
      "Data columns (total 7 columns):\n",
      " #   Column        Non-Null Count  Dtype         \n",
      "---  ------        --------------  -----         \n",
      " 0   active        495 non-null    bool          \n",
      " 1   role          495 non-null    object        \n",
      " 2   signUpSource  447 non-null    object        \n",
      " 3   state         439 non-null    object        \n",
      " 4   id            495 non-null    object        \n",
      " 5   createddate   495 non-null    datetime64[ns]\n",
      " 6   lastlogin     433 non-null    datetime64[ns]\n",
      "dtypes: bool(1), datetime64[ns](2), object(4)\n",
      "memory usage: 23.8+ KB\n"
     ]
    }
   ],
   "source": [
    "users_df.info()"
   ]
  },
  {
   "cell_type": "code",
   "execution_count": 21,
   "id": "9b62a246",
   "metadata": {},
   "outputs": [
    {
     "data": {
      "text/plain": [
       "283"
      ]
     },
     "execution_count": 21,
     "metadata": {},
     "output_type": "execute_result"
    }
   ],
   "source": [
    "#Duplicate Check\n",
    "users_df.duplicated().sum()"
   ]
  },
  {
   "cell_type": "code",
   "execution_count": 22,
   "id": "312f26db",
   "metadata": {},
   "outputs": [
    {
     "data": {
      "text/plain": [
       "0"
      ]
     },
     "execution_count": 22,
     "metadata": {},
     "output_type": "execute_result"
    }
   ],
   "source": [
    "#droping duplicates\n",
    "users_df.drop_duplicates(inplace=True)\n",
    "users_df.duplicated().sum()"
   ]
  },
  {
   "cell_type": "code",
   "execution_count": 23,
   "id": "b70a9cf8",
   "metadata": {},
   "outputs": [
    {
     "data": {
      "text/plain": [
       "active           0\n",
       "role             0\n",
       "signUpSource     5\n",
       "state            6\n",
       "id               0\n",
       "createddate      0\n",
       "lastlogin       40\n",
       "dtype: int64"
      ]
     },
     "execution_count": 23,
     "metadata": {},
     "output_type": "execute_result"
    }
   ],
   "source": [
    "#Checking for null values\n",
    "users_df.isnull().sum()"
   ]
  },
  {
   "cell_type": "code",
   "execution_count": 24,
   "id": "476cb84c",
   "metadata": {},
   "outputs": [
    {
     "data": {
      "text/plain": [
       "active          0.000000\n",
       "role            0.000000\n",
       "signUpSource    0.023585\n",
       "state           0.028302\n",
       "id              0.000000\n",
       "createddate     0.000000\n",
       "lastlogin       0.188679\n",
       "dtype: float64"
      ]
     },
     "execution_count": 24,
     "metadata": {},
     "output_type": "execute_result"
    }
   ],
   "source": [
    "users_na = users_df.isna().sum()\n",
    "users_na/len(users_df)"
   ]
  },
  {
   "cell_type": "code",
   "execution_count": 25,
   "id": "e983d6dd",
   "metadata": {},
   "outputs": [
    {
     "data": {
      "text/plain": [
       "active            2\n",
       "role              2\n",
       "signUpSource      2\n",
       "state             8\n",
       "id              212\n",
       "createddate     212\n",
       "lastlogin       172\n",
       "dtype: int64"
      ]
     },
     "execution_count": 25,
     "metadata": {},
     "output_type": "execute_result"
    }
   ],
   "source": [
    "# Count of unique values in each column\n",
    "users_df.nunique()"
   ]
  },
  {
   "cell_type": "code",
   "execution_count": 26,
   "id": "6f53148b",
   "metadata": {},
   "outputs": [
    {
     "data": {
      "text/plain": [
       "<Axes: xlabel='active', ylabel='count'>"
      ]
     },
     "execution_count": 26,
     "metadata": {},
     "output_type": "execute_result"
    },
    {
     "data": {
      "image/png": "[encoded data removed]",
      "text/plain": [
       "<Figure size 640x480 with 1 Axes>"
      ]
     },
     "metadata": {},
     "output_type": "display_data"
    }
   ],
   "source": [
    "users_active = users_df['active'].value_counts().reset_index()\n",
    "users_active.rename(columns={'index': 'active', 'active': 'count'}, inplace=True)\n",
    "sns.barplot(x='active', y='count', data=users_active)"
   ]
  },
  {
   "cell_type": "code",
   "execution_count": 27,
   "id": "175b3be5",
   "metadata": {},
   "outputs": [
    {
     "data": {
      "text/html": [
       "<div>\n",
       "<style scoped>\n",
       "    .dataframe tbody tr th:only-of-type {\n",
       "        vertical-align: middle;\n",
       "    }\n",
       "\n",
       "    .dataframe tbody tr th {\n",
       "        vertical-align: top;\n",
       "    }\n",
       "\n",
       "    .dataframe thead th {\n",
       "        text-align: right;\n",
       "    }\n",
       "</style>\n",
       "<table border=\"1\" class=\"dataframe\">\n",
       "  <thead>\n",
       "    <tr style=\"text-align: right;\">\n",
       "      <th></th>\n",
       "      <th>signUpSource</th>\n",
       "    </tr>\n",
       "  </thead>\n",
       "  <tbody>\n",
       "    <tr>\n",
       "      <th>Email</th>\n",
       "      <td>204</td>\n",
       "    </tr>\n",
       "    <tr>\n",
       "      <th>Google</th>\n",
       "      <td>3</td>\n",
       "    </tr>\n",
       "  </tbody>\n",
       "</table>\n",
       "</div>"
      ],
      "text/plain": [
       "        signUpSource\n",
       "Email            204\n",
       "Google             3"
      ]
     },
     "execution_count": 27,
     "metadata": {},
     "output_type": "execute_result"
    }
   ],
   "source": [
    "users_signupsource = pd.DataFrame(users_df.signUpSource.value_counts())\n",
    "users_signupsource"
   ]
  },
  {
   "cell_type": "code",
   "execution_count": 28,
   "id": "58248046",
   "metadata": {},
   "outputs": [
    {
     "name": "stdout",
     "output_type": "stream",
     "text": [
      "Email     41.21 %\n",
      "Google     0.61 %\n",
      "Name: signUpSource, dtype: object\n"
     ]
    }
   ],
   "source": [
    "freq_signUpSource= 100* (users_df['signUpSource'].value_counts() / len(users)) \n",
    "print (freq_signUpSource.map('{:,.2f} %'.format))"
   ]
  },
  {
   "cell_type": "code",
   "execution_count": 29,
   "id": "5ea7292f",
   "metadata": {},
   "outputs": [
    {
     "data": {
      "text/plain": [
       "<Axes: xlabel='state', ylabel='count'>"
      ]
     },
     "execution_count": 29,
     "metadata": {},
     "output_type": "execute_result"
    },
    {
     "data": {
      "image/png": "[encoded data removed]",
      "text/plain": [
       "<Figure size 640x480 with 1 Axes>"
      ]
     },
     "metadata": {},
     "output_type": "display_data"
    }
   ],
   "source": [
    "users_state= users_df['state'].value_counts().reset_index() \n",
    "users_state.rename(columns={'index': 'state', 'state': 'count'}, inplace=True)\n",
    "sns.barplot(x='state', y='count', data=users_state)"
   ]
  },
  {
   "cell_type": "code",
   "execution_count": 30,
   "id": "5239e66b",
   "metadata": {},
   "outputs": [
    {
     "name": "stdout",
     "output_type": "stream",
     "text": [
      "WI    38.99 %\n",
      "AL     1.01 %\n",
      "IL     0.61 %\n",
      "KY     0.20 %\n",
      "CO     0.20 %\n",
      "OH     0.20 %\n",
      "SC     0.20 %\n",
      "NH     0.20 %\n",
      "Name: state, dtype: object\n"
     ]
    }
   ],
   "source": [
    "freq_state= 100* (users_df['state'].value_counts() / len(users)) \n",
    "print (freq_state.map('{:,.2f} %'.format))"
   ]
  },
  {
   "cell_type": "markdown",
   "id": "4303ff2c",
   "metadata": {},
   "source": [
    "## Users Data Quality Issues:"
   ]
  },
  {
   "cell_type": "markdown",
   "id": "94f664a7",
   "metadata": {},
   "source": [
    "1. Wrong Data Type Issues.\n",
    "2. Missing Data Values(categoryCode, topBrand, brandCode, category)\n",
    "3. Duplicate values(283 rowsthat's more than half of the given dataset).\n",
    "4. The presence of class imbalance in 'active' and 'states' should be taken into account for further analysis or model development."
   ]
  },
  {
   "cell_type": "markdown",
   "id": "b228e773",
   "metadata": {},
   "source": [
    "    "
   ]
  },
  {
   "cell_type": "markdown",
   "id": "cb7957ce",
   "metadata": {},
   "source": [
    "## 3. Receipts Data:"
   ]
  },
  {
   "cell_type": "code",
   "execution_count": 92,
   "id": "6c6e1b4e",
   "metadata": {},
   "outputs": [],
   "source": [
    "# Formatting source file using a loop function\n",
    "r = []\n",
    "with open('/Users/vamshireddyveramareddy/Desktop/data/receipts.json') as f:\n",
    "    for line in f:\n",
    "        r.append(json.loads(line))\n",
    "receipts= pd.json_normalize(r)"
   ]
  },
  {
   "cell_type": "code",
   "execution_count": 93,
   "id": "5a4d0119",
   "metadata": {},
   "outputs": [
    {
     "data": {
      "text/html": [
       "<div>\n",
       "<style scoped>\n",
       "    .dataframe tbody tr th:only-of-type {\n",
       "        vertical-align: middle;\n",
       "    }\n",
       "\n",
       "    .dataframe tbody tr th {\n",
       "        vertical-align: top;\n",
       "    }\n",
       "\n",
       "    .dataframe thead th {\n",
       "        text-align: right;\n",
       "    }\n",
       "</style>\n",
       "<table border=\"1\" class=\"dataframe\">\n",
       "  <thead>\n",
       "    <tr style=\"text-align: right;\">\n",
       "      <th></th>\n",
       "      <th>bonusPointsEarned</th>\n",
       "      <th>bonusPointsEarnedReason</th>\n",
       "      <th>pointsEarned</th>\n",
       "      <th>purchasedItemCount</th>\n",
       "      <th>rewardsReceiptItemList</th>\n",
       "      <th>rewardsReceiptStatus</th>\n",
       "      <th>totalSpent</th>\n",
       "      <th>userId</th>\n",
       "      <th>_id.$oid</th>\n",
       "      <th>createDate.$date</th>\n",
       "      <th>dateScanned.$date</th>\n",
       "      <th>finishedDate.$date</th>\n",
       "      <th>modifyDate.$date</th>\n",
       "      <th>pointsAwardedDate.$date</th>\n",
       "      <th>purchaseDate.$date</th>\n",
       "    </tr>\n",
       "  </thead>\n",
       "  <tbody>\n",
       "    <tr>\n",
       "      <th>0</th>\n",
       "      <td>500.0</td>\n",
       "      <td>Receipt number 2 completed, bonus point schedu...</td>\n",
       "      <td>500.0</td>\n",
       "      <td>5.0</td>\n",
       "      <td>[{'barcode': '4011', 'description': 'ITEM NOT ...</td>\n",
       "      <td>FINISHED</td>\n",
       "      <td>26.00</td>\n",
       "      <td>5ff1e1eacfcf6c399c274ae6</td>\n",
       "      <td>5ff1e1eb0a720f0523000575</td>\n",
       "      <td>1609687531000</td>\n",
       "      <td>1609687531000</td>\n",
       "      <td>1.609688e+12</td>\n",
       "      <td>1609687536000</td>\n",
       "      <td>1.609688e+12</td>\n",
       "      <td>1.609632e+12</td>\n",
       "    </tr>\n",
       "    <tr>\n",
       "      <th>1</th>\n",
       "      <td>150.0</td>\n",
       "      <td>Receipt number 5 completed, bonus point schedu...</td>\n",
       "      <td>150.0</td>\n",
       "      <td>2.0</td>\n",
       "      <td>[{'barcode': '4011', 'description': 'ITEM NOT ...</td>\n",
       "      <td>FINISHED</td>\n",
       "      <td>11.00</td>\n",
       "      <td>5ff1e194b6a9d73a3a9f1052</td>\n",
       "      <td>5ff1e1bb0a720f052300056b</td>\n",
       "      <td>1609687483000</td>\n",
       "      <td>1609687483000</td>\n",
       "      <td>1.609687e+12</td>\n",
       "      <td>1609687488000</td>\n",
       "      <td>1.609687e+12</td>\n",
       "      <td>1.609601e+12</td>\n",
       "    </tr>\n",
       "    <tr>\n",
       "      <th>2</th>\n",
       "      <td>5.0</td>\n",
       "      <td>All-receipts receipt bonus</td>\n",
       "      <td>5</td>\n",
       "      <td>1.0</td>\n",
       "      <td>[{'needsFetchReview': False, 'partnerItemId': ...</td>\n",
       "      <td>REJECTED</td>\n",
       "      <td>10.00</td>\n",
       "      <td>5ff1e1f1cfcf6c399c274b0b</td>\n",
       "      <td>5ff1e1f10a720f052300057a</td>\n",
       "      <td>1609687537000</td>\n",
       "      <td>1609687537000</td>\n",
       "      <td>NaN</td>\n",
       "      <td>1609687542000</td>\n",
       "      <td>NaN</td>\n",
       "      <td>1.609632e+12</td>\n",
       "    </tr>\n",
       "    <tr>\n",
       "      <th>3</th>\n",
       "      <td>5.0</td>\n",
       "      <td>All-receipts receipt bonus</td>\n",
       "      <td>5.0</td>\n",
       "      <td>4.0</td>\n",
       "      <td>[{'barcode': '4011', 'description': 'ITEM NOT ...</td>\n",
       "      <td>FINISHED</td>\n",
       "      <td>28.00</td>\n",
       "      <td>5ff1e1eacfcf6c399c274ae6</td>\n",
       "      <td>5ff1e1ee0a7214ada100056f</td>\n",
       "      <td>1609687534000</td>\n",
       "      <td>1609687534000</td>\n",
       "      <td>1.609688e+12</td>\n",
       "      <td>1609687539000</td>\n",
       "      <td>1.609688e+12</td>\n",
       "      <td>1.609632e+12</td>\n",
       "    </tr>\n",
       "    <tr>\n",
       "      <th>4</th>\n",
       "      <td>5.0</td>\n",
       "      <td>All-receipts receipt bonus</td>\n",
       "      <td>5.0</td>\n",
       "      <td>2.0</td>\n",
       "      <td>[{'barcode': '4011', 'description': 'ITEM NOT ...</td>\n",
       "      <td>FINISHED</td>\n",
       "      <td>1.00</td>\n",
       "      <td>5ff1e194b6a9d73a3a9f1052</td>\n",
       "      <td>5ff1e1d20a7214ada1000561</td>\n",
       "      <td>1609687506000</td>\n",
       "      <td>1609687506000</td>\n",
       "      <td>1.609688e+12</td>\n",
       "      <td>1609687511000</td>\n",
       "      <td>1.609688e+12</td>\n",
       "      <td>1.609601e+12</td>\n",
       "    </tr>\n",
       "  </tbody>\n",
       "</table>\n",
       "</div>"
      ],
      "text/plain": [
       "   bonusPointsEarned                            bonusPointsEarnedReason  \\\n",
       "0              500.0  Receipt number 2 completed, bonus point schedu...   \n",
       "1              150.0  Receipt number 5 completed, bonus point schedu...   \n",
       "2                5.0                         All-receipts receipt bonus   \n",
       "3                5.0                         All-receipts receipt bonus   \n",
       "4                5.0                         All-receipts receipt bonus   \n",
       "\n",
       "  pointsEarned  purchasedItemCount  \\\n",
       "0        500.0                 5.0   \n",
       "1        150.0                 2.0   \n",
       "2            5                 1.0   \n",
       "3          5.0                 4.0   \n",
       "4          5.0                 2.0   \n",
       "\n",
       "                              rewardsReceiptItemList rewardsReceiptStatus  \\\n",
       "0  [{'barcode': '4011', 'description': 'ITEM NOT ...             FINISHED   \n",
       "1  [{'barcode': '4011', 'description': 'ITEM NOT ...             FINISHED   \n",
       "2  [{'needsFetchReview': False, 'partnerItemId': ...             REJECTED   \n",
       "3  [{'barcode': '4011', 'description': 'ITEM NOT ...             FINISHED   \n",
       "4  [{'barcode': '4011', 'description': 'ITEM NOT ...             FINISHED   \n",
       "\n",
       "  totalSpent                    userId                  _id.$oid  \\\n",
       "0      26.00  5ff1e1eacfcf6c399c274ae6  5ff1e1eb0a720f0523000575   \n",
       "1      11.00  5ff1e194b6a9d73a3a9f1052  5ff1e1bb0a720f052300056b   \n",
       "2      10.00  5ff1e1f1cfcf6c399c274b0b  5ff1e1f10a720f052300057a   \n",
       "3      28.00  5ff1e1eacfcf6c399c274ae6  5ff1e1ee0a7214ada100056f   \n",
       "4       1.00  5ff1e194b6a9d73a3a9f1052  5ff1e1d20a7214ada1000561   \n",
       "\n",
       "   createDate.$date  dateScanned.$date  finishedDate.$date  modifyDate.$date  \\\n",
       "0     1609687531000      1609687531000        1.609688e+12     1609687536000   \n",
       "1     1609687483000      1609687483000        1.609687e+12     1609687488000   \n",
       "2     1609687537000      1609687537000                 NaN     1609687542000   \n",
       "3     1609687534000      1609687534000        1.609688e+12     1609687539000   \n",
       "4     1609687506000      1609687506000        1.609688e+12     1609687511000   \n",
       "\n",
       "   pointsAwardedDate.$date  purchaseDate.$date  \n",
       "0             1.609688e+12        1.609632e+12  \n",
       "1             1.609687e+12        1.609601e+12  \n",
       "2                      NaN        1.609632e+12  \n",
       "3             1.609688e+12        1.609632e+12  \n",
       "4             1.609688e+12        1.609601e+12  "
      ]
     },
     "execution_count": 93,
     "metadata": {},
     "output_type": "execute_result"
    }
   ],
   "source": [
    "receipts.head()"
   ]
  },
  {
   "cell_type": "code",
   "execution_count": 127,
   "id": "947b2ecf",
   "metadata": {},
   "outputs": [],
   "source": [
    "# Rename columns\n",
    "receipts.rename(columns={'createDate.$date': 'createDate', 'dateScanned.$date': 'dateScanned',\n",
    "                            'finishedDate.$date': 'finishedDate', 'modifyDate.$date': 'modifyDate', \n",
    "                            'pointsAwardedDate.$date': 'pointsAwardedDate', 'purchaseDate.$date': 'purchaseDate'},\n",
    "                inplace=True)"
   ]
  },
  {
   "cell_type": "code",
   "execution_count": 128,
   "id": "9c1f8e2b",
   "metadata": {},
   "outputs": [
    {
     "name": "stdout",
     "output_type": "stream",
     "text": [
      "<class 'pandas.core.frame.DataFrame'>\n",
      "RangeIndex: 1119 entries, 0 to 1118\n",
      "Data columns (total 16 columns):\n",
      " #   Column                   Non-Null Count  Dtype  \n",
      "---  ------                   --------------  -----  \n",
      " 0   bonusPointsEarned        544 non-null    float64\n",
      " 1   bonusPointsEarnedReason  544 non-null    object \n",
      " 2   pointsEarned             609 non-null    object \n",
      " 3   purchasedItemCount       635 non-null    float64\n",
      " 4   rewardsReceiptItemList   679 non-null    object \n",
      " 5   rewardsReceiptStatus     1119 non-null   object \n",
      " 6   totalSpent               684 non-null    object \n",
      " 7   userId                   1119 non-null   object \n",
      " 8   _id.$oid                 1119 non-null   string \n",
      " 9   createDate               1119 non-null   int64  \n",
      " 10  dateScanned              1119 non-null   int64  \n",
      " 11  finishedDate             568 non-null    float64\n",
      " 12  modifyDate               1119 non-null   int64  \n",
      " 13  pointsAwardedDate        537 non-null    float64\n",
      " 14  purchaseDate             671 non-null    float64\n",
      " 15  is_modified              1119 non-null   bool   \n",
      "dtypes: bool(1), float64(5), int64(3), object(6), string(1)\n",
      "memory usage: 132.4+ KB\n"
     ]
    }
   ],
   "source": [
    "receipts.info()"
   ]
  },
  {
   "cell_type": "code",
   "execution_count": 129,
   "id": "38930de7",
   "metadata": {},
   "outputs": [
    {
     "data": {
      "text/plain": [
       "bonusPointsEarned          0.513852\n",
       "bonusPointsEarnedReason    0.513852\n",
       "pointsEarned               0.455764\n",
       "purchasedItemCount         0.432529\n",
       "rewardsReceiptItemList     0.393208\n",
       "rewardsReceiptStatus       0.000000\n",
       "totalSpent                 0.388740\n",
       "userId                     0.000000\n",
       "_id.$oid                   0.000000\n",
       "createDate                 0.000000\n",
       "dateScanned                0.000000\n",
       "finishedDate               0.492404\n",
       "modifyDate                 0.000000\n",
       "pointsAwardedDate          0.520107\n",
       "purchaseDate               0.400357\n",
       "is_modified                0.000000\n",
       "dtype: float64"
      ]
     },
     "execution_count": 129,
     "metadata": {},
     "output_type": "execute_result"
    }
   ],
   "source": [
    "#Check missing value\n",
    "receipts.isna().sum()/len(receipts)"
   ]
  },
  {
   "cell_type": "code",
   "execution_count": 130,
   "id": "19f42824",
   "metadata": {},
   "outputs": [
    {
     "name": "stdout",
     "output_type": "stream",
     "text": [
      "['rewardsReceiptItemList']\n"
     ]
    }
   ],
   "source": [
    "# Since nunique() is cannot be applied on lists, we first identify columns that are of type \"list\"\n",
    "# Identify column with of type list, (Identify unhashable column)\n",
    "list_columns = []\n",
    "for col in receipts.columns:\n",
    "    non_nulls = receipts[col].dropna()\n",
    "    if len(non_nulls) > 0:\n",
    "        first_element = non_nulls.iloc[0]\n",
    "        if isinstance(first_element, list):\n",
    "            list_columns.append(col)\n",
    "\n",
    "print(list_columns)"
   ]
  },
  {
   "cell_type": "code",
   "execution_count": 131,
   "id": "aa50ccda",
   "metadata": {},
   "outputs": [],
   "source": [
    "#No \"Accepted\" status in rewardsReceiptstatus column"
   ]
  },
  {
   "cell_type": "code",
   "execution_count": 132,
   "id": "87e2fecc",
   "metadata": {},
   "outputs": [
    {
     "data": {
      "text/plain": [
       "array(['FINISHED', 'REJECTED', 'FLAGGED', 'SUBMITTED', 'PENDING'],\n",
       "      dtype=object)"
      ]
     },
     "execution_count": 132,
     "metadata": {},
     "output_type": "execute_result"
    }
   ],
   "source": [
    "# Identify unique categorical variables\n",
    "receipts.rewardsReceiptStatus.unique()"
   ]
  },
  {
   "cell_type": "code",
   "execution_count": 133,
   "id": "935842d4",
   "metadata": {},
   "outputs": [
    {
     "name": "stdout",
     "output_type": "stream",
     "text": [
      "Number of duplicate columns in receipts dataframe: 0\n"
     ]
    }
   ],
   "source": [
    "check = receipts.copy()\n",
    "check['rewardsReceiptItemList'] = check['rewardsReceiptItemList'].apply(lambda x: str(x))\n",
    "print(\"Number of duplicate columns in receipts dataframe:\",check.duplicated().sum())"
   ]
  },
  {
   "cell_type": "markdown",
   "id": "cbeb987f",
   "metadata": {},
   "source": [
    "## Recepits Data Quality Issues:"
   ]
  },
  {
   "cell_type": "markdown",
   "id": "18f4ae5d",
   "metadata": {},
   "source": [
    "1. Wrong Data Type Issues.\n",
    "2. Missing Data Values(more than half of the given dataset).\n",
    "4. The presence of class imbalance in 'rewardsReceiptStatus' should be taken into account for further analysis or model development."
   ]
  },
  {
   "cell_type": "markdown",
   "id": "7b71a898",
   "metadata": {},
   "source": [
    "  # Communicate with Stakeholders"
   ]
  },
  {
   "cell_type": "markdown",
   "id": "97b0eee9",
   "metadata": {},
   "source": [
    "Hi team,\n",
    "\n",
    "This is Charlene from the Data team.\n",
    "\n",
    "After reviewing the users, brands, and receipts data, I would like to discuss some issues and potential solutions with you:\n",
    "\n",
    "Data Transformation: The current data structure is not optimal for analysis and visualization purposes. I propose automating the process of transforming the data into tables, which will improve efficiency for future analysis.\n",
    "\n",
    "Duplicate User Records: I observed duplicated user records in the users data. For example, user_id '54943462e4b07e684157a532' appears 20 times with the same login time and date. I suggest arranging a meeting with the engineering team to investigate whether this duplication is a system-related issue.\n",
    "\n",
    "Missing Values: The receipts data, in particular, contains missing values. For instance, the brandCode field is often not recorded. To ensure accurate brand rankings, it is essential to capture all relevant data. Currently, I am performing the analysis by disregarding these missing values. I would appreciate your input on how best to handle this situation.\n",
    "\n",
    "I will delve into the details during our upcoming weekly meeting and look forward to hearing your insights. If you are unable to attend, I will share the meeting notes afterwards.\n",
    "\n",
    "Best regards,\n",
    "\n",
    "Charlene"
   ]
  }
 ],
 "metadata": {
  "kernelspec": {
   "display_name": "Python 3 (ipykernel)",
   "language": "python",
   "name": "python3"
  },
  "language_info": {
   "codemirror_mode": {
    "name": "ipython",
    "version": 3
   },
   "file_extension": ".py",
   "mimetype": "text/x-python",
   "name": "python",
   "nbconvert_exporter": "python",
   "pygments_lexer": "ipython3",
   "version": "3.10.9"
  }
 },
 "nbformat": 4,
 "nbformat_minor": 5
}
